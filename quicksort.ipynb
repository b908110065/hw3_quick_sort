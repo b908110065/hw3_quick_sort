{
 "cells": [
  {
   "cell_type": "code",
   "execution_count": 1,
   "id": "a0acf9a6-73a7-4c47-975e-8aac3bff075d",
   "metadata": {},
   "outputs": [
    {
     "name": "stdout",
     "output_type": "stream",
     "text": [
      "[3, 8, 13, 25, 33, 41, 54, 67, 84, 119]\n"
     ]
    }
   ],
   "source": [
    "# 要排序的列表\n",
    "lst = [33, 67, 8, 13, 54, 119, 3, 84, 25, 41]\n",
    "# 定義Quick sort 演算法\n",
    "def quick_sort(lst, start, end):\n",
    "    # 如果列表中只有一個元素或沒有元素，則直接返回\n",
    "    if start >= end:\n",
    "        return\n",
    "    # 選擇 pivot\n",
    "    pivot = lst[start]\n",
    "    left = start + 1\n",
    "    right = end\n",
    "    #分左右操作\n",
    "    while left <= right:\n",
    "        # 如果左邊的元素小於 pivot，則向右移動指針\n",
    "        while left <= end and lst[left] < pivot:\n",
    "            left += 1  \n",
    "        # 如果右邊的元素大於 pivot，則向左移動指針\n",
    "        while right >= start and lst[right] > pivot:\n",
    "            right -= 1\n",
    "        # 如果左右指針位置沒有交錯，則進行交換\n",
    "        if left <= right:\n",
    "            lst[left], lst[right] = lst[right], lst[left]\n",
    "            left += 1\n",
    "            right -= 1\n",
    "    # 將 pivot 插入到適當位置\n",
    "    lst[start], lst[right] = lst[right], lst[start]\n",
    "    # 遞迴對子列表進行排序\n",
    "    quick_sort(lst, start, right - 1)\n",
    "    quick_sort(lst, right + 1, end)\n",
    "# 呼叫定義的函式進行排序\n",
    "quick_sort(lst, 0, len(lst) - 1)\n",
    "# 輸出排序後的列表\n",
    "print(lst)"
   ]
  },
  {
   "cell_type": "code",
   "execution_count": null,
   "id": "8a801067-1c45-4c89-aa7f-68d63bb70d85",
   "metadata": {},
   "outputs": [],
   "source": []
  }
 ],
 "metadata": {
  "kernelspec": {
   "display_name": "Python 3 (ipykernel)",
   "language": "python",
   "name": "python3"
  },
  "language_info": {
   "codemirror_mode": {
    "name": "ipython",
    "version": 3
   },
   "file_extension": ".py",
   "mimetype": "text/x-python",
   "name": "python",
   "nbconvert_exporter": "python",
   "pygments_lexer": "ipython3",
   "version": "3.9.7"
  }
 },
 "nbformat": 4,
 "nbformat_minor": 5
}
